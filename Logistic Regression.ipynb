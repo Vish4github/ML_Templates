{
 "cells": [
  {
   "cell_type": "code",
   "execution_count": 1,
   "metadata": {},
   "outputs": [],
   "source": [
    "#importing libraries\n",
    "import numpy as np # for maths\n",
    "import matplotlib.pyplot as plt   #for visuals\n",
    "import pandas as pd  #for handling data sets\n",
    "from sklearn.preprocessing import Imputer  #to take care of missing data"
   ]
  },
  {
   "cell_type": "code",
   "execution_count": 2,
   "metadata": {},
   "outputs": [],
   "source": [
    "data = pd.read_csv(\"C:/Users/Vishnu/Desktop/ML/Logisticregression/Social_Network_Ads.csv\")"
   ]
  },
  {
   "cell_type": "code",
   "execution_count": 3,
   "metadata": {},
   "outputs": [],
   "source": [
    "datac = data.copy()\n",
    "#independent variable\n",
    "#X = datac.drop('Salary',axis=1)\n",
    "X= data.iloc[:,[2,3]].values\n",
    "Y= data.iloc[:,4].values"
   ]
  },
  {
   "cell_type": "code",
   "execution_count": 4,
   "metadata": {},
   "outputs": [],
   "source": [
    "#Splitting into train and test data\n",
    "from sklearn.model_selection import train_test_split\n",
    "X_train,X_test,Y_train,Y_test=train_test_split(X,Y,test_size=0.25,random_state=0)"
   ]
  },
  {
   "cell_type": "code",
   "execution_count": 5,
   "metadata": {},
   "outputs": [],
   "source": [
    "#Feature Scaling\n",
    "from sklearn.preprocessing import StandardScaler\n",
    "X_scaled=StandardScaler()\n",
    "X_train=X_scaled.fit_transform(X_train) #for training set we need to fit and transform\n",
    "X_test=X_scaled.transform(X_test)"
   ]
  },
  {
   "cell_type": "code",
   "execution_count": 6,
   "metadata": {},
   "outputs": [],
   "source": [
    "#X_train,X_test\n",
    "#End of Preprocessing"
   ]
  },
  {
   "cell_type": "code",
   "execution_count": 7,
   "metadata": {},
   "outputs": [
    {
     "name": "stderr",
     "output_type": "stream",
     "text": [
      "C:\\Users\\Vishnu\\Anaconda3\\lib\\site-packages\\sklearn\\linear_model\\logistic.py:432: FutureWarning: Default solver will be changed to 'lbfgs' in 0.22. Specify a solver to silence this warning.\n",
      "  FutureWarning)\n"
     ]
    },
    {
     "data": {
      "text/plain": [
       "LogisticRegression(C=1.0, class_weight=None, dual=False, fit_intercept=True,\n",
       "                   intercept_scaling=1, l1_ratio=None, max_iter=100,\n",
       "                   multi_class='warn', n_jobs=None, penalty='l2',\n",
       "                   random_state=0, solver='warn', tol=0.0001, verbose=0,\n",
       "                   warm_start=False)"
      ]
     },
     "execution_count": 7,
     "metadata": {},
     "output_type": "execute_result"
    }
   ],
   "source": [
    "#Fitting Logistic Regression to Training Data\n",
    "\n",
    "#Use the desired classifier\n",
    "\n",
    "from sklearn.linear_model import LogisticRegression\n",
    "classifier = LogisticRegression(random_state=0)\n",
    "classifier.fit(X_train,Y_train)\n"
   ]
  },
  {
   "cell_type": "code",
   "execution_count": 8,
   "metadata": {},
   "outputs": [],
   "source": [
    "#Predicting the Test set results\n",
    "Y_pred = classifier.predict(X_test)\n",
    "YPred_values = classifier.predict_proba(X_test)"
   ]
  },
  {
   "cell_type": "code",
   "execution_count": 14,
   "metadata": {},
   "outputs": [
    {
     "data": {
      "text/plain": [
       "array([[0.8835313 , 0.1164687 ],\n",
       "       [0.82871699, 0.17128301],\n",
       "       [0.8004837 , 0.1995163 ],\n",
       "       [0.90739447, 0.09260553],\n",
       "       [0.89926493, 0.10073507],\n",
       "       [0.99169199, 0.00830801],\n",
       "       [0.98410063, 0.01589937],\n",
       "       [0.26459889, 0.73540111],\n",
       "       [0.99384437, 0.00615563],\n",
       "       [0.4907332 , 0.5092668 ],\n",
       "       [0.96238257, 0.03761743],\n",
       "       [0.96947917, 0.03052083],\n",
       "       [0.83490307, 0.16509693],\n",
       "       [0.62448827, 0.37551173],\n",
       "       [0.98369807, 0.01630193],\n",
       "       [0.65886488, 0.34113512],\n",
       "       [0.7144286 , 0.2855714 ],\n",
       "       [0.98708287, 0.01291713],\n",
       "       [0.01150228, 0.98849772],\n",
       "       [0.95626217, 0.04373783],\n",
       "       [0.90763174, 0.09236826],\n",
       "       [0.03668135, 0.96331865],\n",
       "       [0.71749074, 0.28250926],\n",
       "       [0.11706887, 0.88293113],\n",
       "       [0.99524108, 0.00475892],\n",
       "       [0.02710673, 0.97289327],\n",
       "       [0.91943183, 0.08056817],\n",
       "       [0.92088349, 0.07911651],\n",
       "       [0.80168341, 0.19831659],\n",
       "       [0.83888382, 0.16111618],\n",
       "       [0.97879075, 0.02120925],\n",
       "       [0.70119816, 0.29880184],\n",
       "       [0.06769477, 0.93230523],\n",
       "       [0.84353432, 0.15646568],\n",
       "       [0.98491826, 0.01508174],\n",
       "       [0.99630128, 0.00369872],\n",
       "       [0.97919709, 0.02080291],\n",
       "       [0.93195984, 0.06804016],\n",
       "       [0.97118522, 0.02881478],\n",
       "       [0.4448538 , 0.5551462 ],\n",
       "       [0.93130023, 0.06869977],\n",
       "       [0.71096146, 0.28903854],\n",
       "       [0.93904903, 0.06095097],\n",
       "       [0.95886141, 0.04113859],\n",
       "       [0.19345382, 0.80654618],\n",
       "       [0.9725232 , 0.0274768 ],\n",
       "       [0.69445268, 0.30554732],\n",
       "       [0.07165789, 0.92834211],\n",
       "       [0.99068214, 0.00931786],\n",
       "       [0.1393124 , 0.8606876 ],\n",
       "       [0.00989222, 0.99010778],\n",
       "       [0.96057081, 0.03942919],\n",
       "       [0.87708921, 0.12291079],\n",
       "       [0.57783027, 0.42216973],\n",
       "       [0.01932703, 0.98067297],\n",
       "       [0.67330527, 0.32669473],\n",
       "       [0.91360278, 0.08639722],\n",
       "       [0.95550802, 0.04449198],\n",
       "       [0.50860878, 0.49139122],\n",
       "       [0.99631168, 0.00368832],\n",
       "       [0.97865378, 0.02134622],\n",
       "       [0.06541544, 0.93458456],\n",
       "       [0.99028301, 0.00971699],\n",
       "       [0.60285451, 0.39714549],\n",
       "       [0.99802191, 0.00197809],\n",
       "       [0.01850645, 0.98149355],\n",
       "       [0.96035612, 0.03964388],\n",
       "       [0.9725232 , 0.0274768 ],\n",
       "       [0.77974568, 0.22025432],\n",
       "       [0.5299776 , 0.4700224 ],\n",
       "       [0.40192565, 0.59807435],\n",
       "       [0.79006863, 0.20993137],\n",
       "       [0.98819632, 0.01180368],\n",
       "       [0.73944348, 0.26055652],\n",
       "       [0.92922501, 0.07077499],\n",
       "       [0.9904    , 0.0096    ],\n",
       "       [0.45813315, 0.54186685],\n",
       "       [0.70021207, 0.29978793],\n",
       "       [0.27404394, 0.72595606],\n",
       "       [0.11061585, 0.88938415],\n",
       "       [0.00401366, 0.99598634],\n",
       "       [0.02260363, 0.97739637],\n",
       "       [0.98627946, 0.01372054],\n",
       "       [0.98908355, 0.01091645],\n",
       "       [0.10687816, 0.89312184],\n",
       "       [0.45020289, 0.54979711],\n",
       "       [0.59108435, 0.40891565],\n",
       "       [0.00511557, 0.99488443],\n",
       "       [0.55751522, 0.44248478],\n",
       "       [0.65568733, 0.34431267],\n",
       "       [0.57737278, 0.42262722],\n",
       "       [0.21579253, 0.78420747],\n",
       "       [0.99101483, 0.00898517],\n",
       "       [0.99162973, 0.00837027],\n",
       "       [0.96601697, 0.03398303],\n",
       "       [0.91300665, 0.08699335],\n",
       "       [0.98556125, 0.01443875],\n",
       "       [0.51965484, 0.48034516],\n",
       "       [0.14870417, 0.85129583],\n",
       "       [0.27535436, 0.72464564]])"
      ]
     },
     "execution_count": 14,
     "metadata": {},
     "output_type": "execute_result"
    }
   ],
   "source": [
    "YPred_values"
   ]
  },
  {
   "cell_type": "code",
   "execution_count": 17,
   "metadata": {},
   "outputs": [],
   "source": [
    "#Making the confusion matrix\n",
    "from sklearn.metrics import confusion_matrix  #confusion matrx is a function --see the lowercase\n",
    "cm = confusion_matrix(Y_test,Y_pred)"
   ]
  },
  {
   "cell_type": "code",
   "execution_count": 25,
   "metadata": {},
   "outputs": [
    {
     "name": "stderr",
     "output_type": "stream",
     "text": [
      "'c' argument looks like a single numeric RGB or RGBA sequence, which should be avoided as value-mapping will have precedence in case its length matches with 'x' & 'y'.  Please use a 2-D array with a single row if you really want to specify the same RGB or RGBA value for all points.\n",
      "'c' argument looks like a single numeric RGB or RGBA sequence, which should be avoided as value-mapping will have precedence in case its length matches with 'x' & 'y'.  Please use a 2-D array with a single row if you really want to specify the same RGB or RGBA value for all points.\n"
     ]
    },
    {
     "data": {
      "image/png": "[encoded data removed]",
      "text/plain": [
       "<Figure size 432x288 with 1 Axes>"
      ]
     },
     "metadata": {
      "needs_background": "light"
     },
     "output_type": "display_data"
    }
   ],
   "source": [
    "#Visualizing the predictive power\n",
    "from matplotlib.colors import ListedColormap\n",
    "X_set,Y_set = X_train, Y_train # can change to X_test and Y_test\n",
    "X1,X2 = np.meshgrid(np.arange(start = X_set[:,0].min() - 1, stop = X_set[:,0].max() + 1, step = 0.01),\n",
    "                    np.arange(start = X_set[:,1].min() - 1, stop = X_set[:,1].max() + 1, step = 0.01))\n",
    "plt.contourf(X1,X2,classifier.predict(np.array([X1.ravel(),X2.ravel()]).T).reshape(X1.shape),alpha = 0.75,\n",
    "             cmap = ListedColormap(('red','green')))\n",
    "plt.xlim(X1.min(), X1.max())\n",
    "plt.ylim(X2.min(), X2.max())\n",
    "\n",
    "for i,j in enumerate(np.unique(Y_set)):\n",
    "    plt.scatter(X_set[Y_set==j,0],X_set[Y_set==j,1], c = ListedColormap(('red','green'))(i),label=j)\n",
    "    \n",
    "plt.title('Logostic Regression - Training set')\n",
    "plt.xlabel('Age')\n",
    "plt.ylabel('Salary')\n",
    "plt.legend()\n",
    "plt.show()\n",
    "\n",
    "\n",
    "    "
   ]
  },
  {
   "cell_type": "code",
   "execution_count": null,
   "metadata": {},
   "outputs": [],
   "source": []
  }
 ],
 "metadata": {
  "kernelspec": {
   "display_name": "Python 3",
   "language": "python",
   "name": "python3"
  },
  "language_info": {
   "codemirror_mode": {
    "name": "ipython",
    "version": 3
   },
   "file_extension": ".py",
   "mimetype": "text/x-python",
   "name": "python",
   "nbconvert_exporter": "python",
   "pygments_lexer": "ipython3",
   "version": "3.7.3"
  }
 },
 "nbformat": 4,
 "nbformat_minor": 2
}
